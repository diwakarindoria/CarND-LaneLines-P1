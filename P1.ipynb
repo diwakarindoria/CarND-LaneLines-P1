{
 "cells": [
  {
   "cell_type": "markdown",
   "metadata": {},
   "source": [
    "# Self-Driving Car Engineer Nanodegree\n",
    "\n",
    "\n",
    "## Project: **Finding Lane Lines on the Road** \n",
    "***\n",
    "In this project, you will use the tools you learned about in the lesson to identify lane lines on the road.  You can develop your pipeline on a series of individual images, and later apply the result to a video stream (really just a series of images). Check out the video clip \"raw-lines-example.mp4\" (also contained in this repository) to see what the output should look like after using the helper functions below. \n",
    "\n",
    "Once you have a result that looks roughly like \"raw-lines-example.mp4\", you'll need to get creative and try to average and/or extrapolate the line segments you've detected to map out the full extent of the lane lines.  You can see an example of the result you're going for in the video \"P1_example.mp4\".  Ultimately, you would like to draw just one line for the left side of the lane, and one for the right.\n",
    "\n",
    "In addition to implementing code, there is a brief writeup to complete. The writeup should be completed in a separate file, which can be either a markdown file or a pdf document. There is a [write up template](https://github.com/udacity/CarND-LaneLines-P1/blob/master/writeup_template.md) that can be used to guide the writing process. Completing both the code in the Ipython notebook and the writeup template will cover all of the [rubric points](https://review.udacity.com/#!/rubrics/322/view) for this project.\n",
    "\n",
    "---\n",
    "Let's have a look at our first image called 'test_images/solidWhiteRight.jpg'.  Run the 2 cells below (hit Shift-Enter or the \"play\" button above) to display the image.\n",
    "\n",
    "**Note: If, at any point, you encounter frozen display windows or other confounding issues, you can always start again with a clean slate by going to the \"Kernel\" menu above and selecting \"Restart & Clear Output\".**\n",
    "\n",
    "---"
   ]
  },
  {
   "cell_type": "markdown",
   "metadata": {},
   "source": [
    "**The tools you have are color selection, region of interest selection, grayscaling, Gaussian smoothing, Canny Edge Detection and Hough Tranform line detection.  You  are also free to explore and try other techniques that were not presented in the lesson.  Your goal is piece together a pipeline to detect the line segments in the image, then average/extrapolate them and draw them onto the image for display (as below).  Once you have a working pipeline, try it out on the video stream below.**\n",
    "\n",
    "---\n",
    "\n",
    "<figure>\n",
    " <img src=\"examples/line-segments-example.jpg\" width=\"380\" alt=\"Combined Image\" />\n",
    " <figcaption>\n",
    " <p></p> \n",
    " <p style=\"text-align: center;\"> Your output should look something like this (above) after detecting line segments using the helper functions below </p> \n",
    " </figcaption>\n",
    "</figure>\n",
    " <p></p> \n",
    "<figure>\n",
    " <img src=\"examples/laneLines_thirdPass.jpg\" width=\"380\" alt=\"Combined Image\" />\n",
    " <figcaption>\n",
    " <p></p> \n",
    " <p style=\"text-align: center;\"> Your goal is to connect/average/extrapolate line segments to get output like this</p> \n",
    " </figcaption>\n",
    "</figure>"
   ]
  },
  {
   "cell_type": "markdown",
   "metadata": {},
   "source": [
    "**Run the cell below to import some packages.  If you get an `import error` for a package you've already installed, try changing your kernel (select the Kernel menu above --> Change Kernel).  Still have problems?  Try relaunching Jupyter Notebook from the terminal prompt.  Also, consult the forums for more troubleshooting tips.**  "
   ]
  },
  {
   "cell_type": "markdown",
   "metadata": {},
   "source": [
    "## Import Packages"
   ]
  },
  {
   "cell_type": "code",
   "execution_count": null,
   "metadata": {},
   "outputs": [],
   "source": [
    "#importing some useful packages\n",
    "import matplotlib.pyplot as plt\n",
    "import matplotlib.image as mpimg\n",
    "import numpy as np\n",
    "import cv2\n",
    "%matplotlib inline"
   ]
  },
  {
   "cell_type": "markdown",
   "metadata": {},
   "source": [
    "## Read in an Image"
   ]
  },
  {
   "cell_type": "code",
   "execution_count": null,
   "metadata": {},
   "outputs": [],
   "source": [
    "#reading in an image\n",
    "image = mpimg.imread('test_images/solidWhiteRight.jpg')\n",
    "\n",
    "#printing out some stats and plotting\n",
    "print('This image is:', type(image), 'with dimensions:', image.shape)\n",
    "plt.imshow(image)  # if you wanted to show a single color channel image called 'gray', for example, call as plt.imshow(gray, cmap='gray')"
   ]
  },
  {
   "cell_type": "markdown",
   "metadata": {},
   "source": [
    "## Ideas for Lane Detection Pipeline"
   ]
  },
  {
   "cell_type": "markdown",
   "metadata": {},
   "source": [
    "**Some OpenCV functions (beyond those introduced in the lesson) that might be useful for this project are:**\n",
    "\n",
    "`cv2.inRange()` for color selection  \n",
    "`cv2.fillPoly()` for regions selection  \n",
    "`cv2.line()` to draw lines on an image given endpoints  \n",
    "`cv2.addWeighted()` to coadd / overlay two images\n",
    "`cv2.cvtColor()` to grayscale or change color\n",
    "`cv2.imwrite()` to output images to file  \n",
    "`cv2.bitwise_and()` to apply a mask to an image\n",
    "\n",
    "**Check out the OpenCV documentation to learn about these and discover even more awesome functionality!**"
   ]
  },
  {
   "cell_type": "markdown",
   "metadata": {},
   "source": [
    "## Helper Functions"
   ]
  },
  {
   "cell_type": "markdown",
   "metadata": {},
   "source": [
    "Below are some helper functions to help get you started. They should look familiar from the lesson!"
   ]
  },
  {
   "cell_type": "code",
   "execution_count": null,
   "metadata": {
    "collapsed": true
   },
   "outputs": [],
   "source": [
    "import math\n",
    "\n",
    "def grayscale(img):\n",
    "    \"\"\"Applies the Grayscale transform\n",
    "    This will return an image with only one color channel\n",
    "    but NOTE: to see the returned image as grayscale\n",
    "    (assuming your grayscaled image is called 'gray')\n",
    "    you should call plt.imshow(gray, cmap='gray')\"\"\"\n",
    "    return cv2.cvtColor(img, cv2.COLOR_RGB2GRAY)\n",
    "    # Or use BGR2GRAY if you read an image with cv2.imread()\n",
    "    # return cv2.cvtColor(img, cv2.COLOR_BGR2GRAY)\n",
    "    \n",
    "def canny(img, low_threshold, high_threshold):\n",
    "    \"\"\"Applies the Canny transform\"\"\"\n",
    "    return cv2.Canny(img, low_threshold, high_threshold)\n",
    "\n",
    "def gaussian_blur(img, kernel_size):\n",
    "    \"\"\"Applies a Gaussian Noise kernel\"\"\"\n",
    "    return cv2.GaussianBlur(img, (kernel_size, kernel_size), 0)\n",
    "\n",
    "def region_of_interest(img, vertices):\n",
    "    \"\"\"\n",
    "    Applies an image mask.\n",
    "    \n",
    "    Only keeps the region of the image defined by the polygon\n",
    "    formed from `vertices`. The rest of the image is set to black.\n",
    "    `vertices` should be a numpy array of integer points.\n",
    "    \"\"\"\n",
    "    #defining a blank mask to start with\n",
    "    mask = np.zeros_like(img)   \n",
    "    \n",
    "    #defining a 3 channel or 1 channel color to fill the mask with depending on the input image\n",
    "    if len(img.shape) > 2:\n",
    "        channel_count = img.shape[2]  # i.e. 3 or 4 depending on your image\n",
    "        ignore_mask_color = (255,) * channel_count\n",
    "    else:\n",
    "        ignore_mask_color = 255\n",
    "        \n",
    "    #filling pixels inside the polygon defined by \"vertices\" with the fill color    \n",
    "    cv2.fillPoly(mask, vertices, ignore_mask_color)\n",
    "    \n",
    "    #returning the image only where mask pixels are nonzero\n",
    "    masked_image = cv2.bitwise_and(img, mask)\n",
    "    return masked_image\n",
    "\n",
    "\n",
    "def draw_lines(img, lines, color=[255, 0, 0], thickness=2):\n",
    "    \"\"\"\n",
    "    NOTE: this is the function you might want to use as a starting point once you want to \n",
    "    average/extrapolate the line segments you detect to map out the full\n",
    "    extent of the lane (going from the result shown in raw-lines-example.mp4\n",
    "    to that shown in P1_example.mp4).  \n",
    "    \n",
    "    Think about things like separating line segments by their \n",
    "    slope ((y2-y1)/(x2-x1)) to decide which segments are part of the left\n",
    "    line vs. the right line.  Then, you can average the position of each of \n",
    "    the lines and extrapolate to the top and bottom of the lane.\n",
    "    \n",
    "    This function draws `lines` with `color` and `thickness`.    \n",
    "    Lines are drawn on the image inplace (mutates the image).\n",
    "    If you want to make the lines semi-transparent, think about combining\n",
    "    this function with the weighted_img() function below\n",
    "    \"\"\"\n",
    "    for line in lines:\n",
    "        for x1,y1,x2,y2 in line:\n",
    "            cv2.line(img, (x1, y1), (x2, y2), color, thickness)\n",
    "\n",
    "def hough_lines(img, rho, theta, threshold, min_line_len, max_line_gap):\n",
    "    \"\"\"\n",
    "    `img` should be the output of a Canny transform.\n",
    "        \n",
    "    Returns an image with hough lines drawn.\n",
    "    \"\"\"\n",
    "    lines = cv2.HoughLinesP(img, rho, theta, threshold, np.array([]), minLineLength=min_line_len, maxLineGap=max_line_gap)\n",
    "    line_img = np.zeros((img.shape[0], img.shape[1], 3), dtype=np.uint8)\n",
    "    draw_lines(line_img, lines)\n",
    "    return line_img\n",
    "\n",
    "# Python 3 has support for cool math symbols.\n",
    "\n",
    "def weighted_img(img, initial_img, α=0.8, β=1., γ=0.):\n",
    "    \"\"\"\n",
    "    `img` is the output of the hough_lines(), An image with lines drawn on it.\n",
    "    Should be a blank image (all black) with lines drawn on it.\n",
    "    \n",
    "    `initial_img` should be the image before any processing.\n",
    "    \n",
    "    The result image is computed as follows:\n",
    "    \n",
    "    initial_img * α + img * β + γ\n",
    "    NOTE: initial_img and img must be the same shape!\n",
    "    \"\"\"\n",
    "    return cv2.addWeighted(initial_img, α, img, β, γ)"
   ]
  },
  {
   "cell_type": "markdown",
   "metadata": {},
   "source": [
    "## Test Images\n",
    "\n",
    "Build your pipeline to work on the images in the directory \"test_images\"  \n",
    "**You should make sure your pipeline works well on these images before you try the videos.**"
   ]
  },
  {
   "cell_type": "code",
   "execution_count": null,
   "metadata": {},
   "outputs": [],
   "source": [
    "import os\n",
    "os.listdir(\"test_images/\")"
   ]
  },
  {
   "cell_type": "markdown",
   "metadata": {},
   "source": [
    "## Build a Lane Finding Pipeline\n",
    "\n"
   ]
  },
  {
   "cell_type": "markdown",
   "metadata": {},
   "source": [
    "Build the pipeline and run your solution on all test_images. Make copies into the `test_images_output` directory, and you can use the images in your writeup report.\n",
    "\n",
    "Try tuning the various parameters, especially the low and high Canny thresholds as well as the Hough lines parameters."
   ]
  },
  {
   "cell_type": "code",
   "execution_count": 148,
   "metadata": {},
   "outputs": [
    {
     "name": "stdout",
     "output_type": "stream",
     "text": [
      "solidYellowCurve.jpg\n",
      "solidYellowCurve2.jpg\n",
      "solidWhiteCurve.jpg\n",
      "solidWhiteRight.jpg\n",
      "solidYellowLeft.jpg\n",
      "whiteCarLaneSwitch.jpg\n"
     ]
    },
    {
     "data": {
      "image/png": "[encoded data removed]",
      "text/plain": [
       "<matplotlib.figure.Figure at 0x7f3f570614e0>"
      ]
     },
     "metadata": {
      "needs_background": "light"
     },
     "output_type": "display_data"
    }
   ],
   "source": [
    "# TODO: Build your pipeline that will draw lane lines on the test_images\n",
    "# then save them to the test_images_output directory.\n",
    "#importing some useful packages\n",
    "import matplotlib.pyplot as plt\n",
    "import matplotlib.image as mpimg\n",
    "import numpy as np\n",
    "import cv2\n",
    "\n",
    "from os import listdir\n",
    "from os.path import isfile, join\n",
    "import shutil\n",
    "import collections\n",
    "\n",
    "import math\n",
    "\n",
    "%matplotlib inline\n",
    "\n",
    "left_fit_param_global = collections.deque(maxlen=25)\n",
    "right_fit_param_global = collections.deque(maxlen=25)\n",
    "\n",
    "# start: helper functions\n",
    "\n",
    "def grayscale(img):\n",
    "    \"\"\"Applies the Grayscale transform\n",
    "    This will return an image with only one color channel\n",
    "    but NOTE: to see the returned image as grayscale\n",
    "    (assuming your grayscaled image is called 'gray')\n",
    "    you should call plt.imshow(gray, cmap='gray')\"\"\"\n",
    "    return cv2.cvtColor(img, cv2.COLOR_RGB2GRAY)\n",
    "    # Or use BGR2GRAY if you read an image with cv2.imread()\n",
    "    # return cv2.cvtColor(img, cv2.COLOR_BGR2GRAY)\n",
    "    \n",
    "def canny(img, low_threshold, high_threshold):\n",
    "    \"\"\"Applies the Canny transform\"\"\"\n",
    "    return cv2.Canny(img, low_threshold, high_threshold)\n",
    "\n",
    "def gaussian_blur(img, kernel_size):\n",
    "    \"\"\"Applies a Gaussian Noise kernel\"\"\"\n",
    "    return cv2.GaussianBlur(img, (kernel_size, kernel_size), 0)\n",
    "\n",
    "def region_of_interest(img, vertices):\n",
    "    \"\"\"\n",
    "    Applies an image mask.\n",
    "    \n",
    "    Only keeps the region of the image defined by the polygon\n",
    "    formed from `vertices`. The rest of the image is set to black.\n",
    "    `vertices` should be a numpy array of integer points.\n",
    "    \"\"\"\n",
    "    #defining a blank mask to start with\n",
    "    mask = np.zeros_like(img)   \n",
    "    \n",
    "    #defining a 3 channel or 1 channel color to fill the mask with depending on the input image\n",
    "    if len(img.shape) > 2:\n",
    "        channel_count = img.shape[2]  # i.e. 3 or 4 depending on your image\n",
    "        ignore_mask_color = (255,) * channel_count\n",
    "    else:\n",
    "        ignore_mask_color = 255\n",
    "        \n",
    "    #filling pixels inside the polygon defined by \"vertices\" with the fill color    \n",
    "    cv2.fillPoly(mask, vertices, ignore_mask_color)\n",
    "    \n",
    "    #returning the image only where mask pixels are nonzero\n",
    "    masked_image = cv2.bitwise_and(img, mask)\n",
    "    return masked_image\n",
    "\n",
    "def draw_lines(img, lines, color=[255, 0, 0], thickness=3, line_type = \"default\"):\n",
    "    \"\"\"\n",
    "    NOTE: this is the function you might want to use as a starting point once you want to \n",
    "    average/extrapolate the line segments you detect to map out the full\n",
    "    extent of the lane (going from the result shown in raw-lines-example.mp4\n",
    "    to that shown in P1_example.mp4).  \n",
    "    \n",
    "    Think about things like separating line segments by their \n",
    "    slope ((y2-y1)/(x2-x1)) to decide which segments are part of the left\n",
    "    line vs. the right line.  Then, you can average the position of each of \n",
    "    the lines and extrapolate to the top and bottom of the lane.\n",
    "    \n",
    "    This function draws `lines` with `color` and `thickness`.    \n",
    "    Lines are drawn on the image inplace (mutates the image).\n",
    "    If you want to make the lines semi-transparent, think about combining\n",
    "    this function with the weighted_img() function below\n",
    "    \"\"\"\n",
    "    \n",
    "    global left_fit_param_global\n",
    "    global right_fit_param_global\n",
    "    left_x_list = []\n",
    "    left_y_list = []\n",
    "    right_x_list = []\n",
    "    right_y_list = []\n",
    "\n",
    "    prev_min_left_y = None\n",
    "    prev_min_right_y = None\n",
    "    prev_max_left_y = None\n",
    "    prev_max_right_y = None\n",
    "    \n",
    "    if line_type == \"default\":\n",
    "        for line in lines:\n",
    "            for x1,y1,x2,y2 in line:\n",
    "                cv2.line(img, (x1, y1), (x2, y2), color, thickness)\n",
    "    else:\n",
    "        for line in lines:\n",
    "            for x1,y1,x2,y2 in line:\n",
    "                slope = ((y2-y1)/(x2-x1))\n",
    "                if slope < 0 and abs(slope) > 0.2: # if it is negative, it is left line's coordinate\n",
    "                    left_x_list.append(x1)\n",
    "                    left_x_list.append(x2)\n",
    "                    left_y_list.append(y1)\n",
    "                    left_y_list.append(y2)\n",
    "                else:\n",
    "                    right_x_list.append(x1)\n",
    "                    right_x_list.append(x2)\n",
    "                    right_y_list.append(y1)\n",
    "                    right_y_list.append(y2)\n",
    "        \"\"\"\n",
    "        y = m * x + c  or x = (y - c)/m\n",
    "        m is slope\n",
    "        c is y intercept\n",
    "\n",
    "        left_params = np.polyfit(y_left,x_left, angle = 1)\n",
    "        left_params[0] is slope\n",
    "                    [1] is intercept\n",
    "        \"\"\"\n",
    "        if len(left_y_list) != 0 and len(right_y_list) != 0:\n",
    "            # get min and max values from the lists\n",
    "            # min_left_x = min(left_x_list)\n",
    "            # min_right_x = min(right_x_list)\n",
    "            min_left_y = min(left_y_list)\n",
    "            min_right_y = min(right_y_list)\n",
    "\n",
    "            # max_left_x = max(left_x_list)\n",
    "            # max_right_x = max(right_x_list)\n",
    "            max_left_y = max(left_y_list)\n",
    "            max_right_y = max(right_y_list)\n",
    "\n",
    "            prev_min_left_y = min_left_y\n",
    "            prev_min_right_y = min_right_y\n",
    "            prev_max_left_y = max_left_y\n",
    "            prev_max_right_y = max_right_y\n",
    "        elif(prev_min_left_y != None and prev_min_right_y != None):\n",
    "            min_left_y = prev_min_left_y\n",
    "            min_right_y = prev_min_right_y\n",
    "            max_left_y = prev_max_left_y\n",
    "            max_right_y = prev_max_right_y\n",
    "        else:\n",
    "            return\n",
    "    \n",
    "        # now draw the line\n",
    "        max_y = max_right_y\n",
    "        if max_y < max_left_y:\n",
    "            max_y = max_left_y\n",
    "        \n",
    "        left_fit_param = np.polyfit(left_x_list, left_y_list, 1)\n",
    "        # append to global list\n",
    "        left_fit_param_global.append(left_fit_param)\n",
    "        # get average from last 15\n",
    "        avg_left_fit_param = np.mean(left_fit_param_global,axis=0)\n",
    "        \n",
    "        x_val_left = (max_y - avg_left_fit_param[1])/avg_left_fit_param[0]\n",
    "        x_val_left2 = (min_left_y - avg_left_fit_param[1])/avg_left_fit_param[0]\n",
    "        \n",
    "        right_fit_param = np.polyfit(right_x_list, right_y_list, 1)\n",
    "        # append to global list\n",
    "        right_fit_param_global.append(right_fit_param)\n",
    "        # get average from last 15\n",
    "        avg_right_fit_param = np.mean(right_fit_param_global,axis=0)\n",
    "        \n",
    "        x_val_right = (340 - avg_right_fit_param[1])/avg_right_fit_param[0]\n",
    "        x_val_right2 = (max_y - avg_right_fit_param[1])/avg_right_fit_param[0]\n",
    "        \n",
    "        \n",
    "        # cv2.line(img, (min_left_x, max_y), (max_left_x, min_left_y), color, thickness)\n",
    "        # cv2.line(img, (min_right_x, min_right_y), (max_right_x, max_y), color, thickness)\n",
    "        \n",
    "        # left line\n",
    "        cv2.line(img, (int(x_val_left), max_y), (int(x_val_left2), min_left_y), color, thickness)\n",
    "        # right line\n",
    "        cv2.line(img, (int(x_val_right), 340), (int(x_val_right2), max_y), color, thickness)\n",
    "\n",
    "\n",
    "def hough_lines(img, rho, theta, threshold, min_line_len, max_line_gap):\n",
    "    \"\"\"\n",
    "    `img` should be the output of a Canny transform.\n",
    "        \n",
    "    Returns an image with hough lines drawn.\n",
    "    \"\"\"\n",
    "    lines = cv2.HoughLinesP(img, rho, theta, threshold, np.array([]), minLineLength=min_line_len, maxLineGap=max_line_gap)\n",
    "    line_img = np.zeros((img.shape[0], img.shape[1], 3), dtype=np.uint8)\n",
    "    draw_lines(line_img, lines, color=[255, 0, 0], thickness=10, line_type = \"full\")\n",
    "    return line_img\n",
    "\n",
    "# Python 3 has support for cool math symbols.\n",
    "\n",
    "def weighted_img(img, initial_img, α=0.8, β=1., γ=0.):\n",
    "    \"\"\"\n",
    "    `img` is the output of the hough_lines(), An image with lines drawn on it.\n",
    "    Should be a blank image (all black) with lines drawn on it.\n",
    "    \n",
    "    `initial_img` should be the image before any processing.\n",
    "    \n",
    "    The result image is computed as follows:\n",
    "    \n",
    "    initial_img * α + img * β + γ\n",
    "    NOTE: initial_img and img must be the same shape!\n",
    "    \"\"\"\n",
    "    return cv2.addWeighted(initial_img, α, img, β, γ)\n",
    "\n",
    "# end of helper functions\n",
    "\n",
    "def get_combo_image(image) :\n",
    "    # grayscale the image\n",
    "    grayscale_image = grayscale(image)\n",
    "    # Define a kernel size and apply Gaussian smoothing\n",
    "    kernel_size = 5\n",
    "    blur_grey_image = gaussian_blur(grayscale_image, kernel_size)\n",
    "    # Define our parameters for Canny and apply\n",
    "    low_threshold = 50\n",
    "    high_threshold = 150\n",
    "    masked_edges = canny(blur_grey_image, low_threshold, high_threshold)\n",
    "\n",
    "    # Define the Hough transform parameters\n",
    "    rho = 1\n",
    "    theta = np.pi/180\n",
    "    threshold = 15\n",
    "    min_line_length = 40\n",
    "    max_line_gap = 20\n",
    "\n",
    "    vertices = np.array([[(100,image.shape[0]), (455, 300), (485, 300), (image.shape[1] * .95, image.shape[0])]], dtype=np.int32)\n",
    "\n",
    "    original_image_copy = image.copy()\n",
    "    # to check reason in original image, do comment after check area is good to go\n",
    "    # masked_image = region_of_interest(original_image_copy, vertices)\n",
    "\n",
    "    # to draw masked image\n",
    "    masked_image = region_of_interest(masked_edges, vertices)\n",
    "    \n",
    "    lines = hough_lines(masked_image, rho, theta, threshold, min_line_length, max_line_gap)\n",
    "    # original_image_copy = image.copy()\n",
    "    color = [255, 0, 0]\n",
    "    thickness = 10\n",
    "\n",
    "    # creating a blank to draw lines on\n",
    "    # line_image = np.copy(image)*0\n",
    "\n",
    "    combo_image = weighted_img(lines, original_image_copy)\n",
    "\n",
    "    return combo_image\n",
    "\n",
    "# function to make lines in images\n",
    "def make_lane_lines():\n",
    "    # get the list of images from image directory\n",
    "    test_images_list = [f for f in listdir(\"test_images/\") if isfile(join(\"test_images/\", f))]\n",
    "\n",
    "    for test_image in test_images_list:\n",
    "        global left_fit_param_global\n",
    "        global right_fit_param_global\n",
    "        # reassign the global variables\n",
    "        left_fit_param_global = collections.deque(maxlen=25)\n",
    "        right_fit_param_global = collections.deque(maxlen=25)\n",
    "\n",
    "        # Read in the image\n",
    "        image = mpimg.imread(join(\"test_images/\", test_image))\n",
    "        # get combo image with fixed or predefined parameters from image\n",
    "        # other config parameters are defined in function variables. [TO-DO]: we can make settings variables configurable later.\n",
    "        combo_image = get_combo_image(image)\n",
    "        # print(combo_image)\n",
    "        print(test_image)\n",
    "        plt.imshow(combo_image)\n",
    "        # do break for test mask area in image\n",
    "        # break\n",
    "        cv2.imwrite(\"test_images_output/\" + test_image, combo_image)\n",
    "\n",
    "if __name__ == '__main__':\n",
    "    make_lane_lines()"
   ]
  },
  {
   "cell_type": "markdown",
   "metadata": {},
   "source": [
    "## Test on Videos\n",
    "\n",
    "You know what's cooler than drawing lanes over images? Drawing lanes over video!\n",
    "\n",
    "We can test our solution on two provided videos:\n",
    "\n",
    "`solidWhiteRight.mp4`\n",
    "\n",
    "`solidYellowLeft.mp4`\n",
    "\n",
    "**Note: if you get an import error when you run the next cell, try changing your kernel (select the Kernel menu above --> Change Kernel). Still have problems? Try relaunching Jupyter Notebook from the terminal prompt. Also, consult the forums for more troubleshooting tips.**\n",
    "\n",
    "**If you get an error that looks like this:**\n",
    "```\n",
    "NeedDownloadError: Need ffmpeg exe. \n",
    "You can download it by calling: \n",
    "imageio.plugins.ffmpeg.download()\n",
    "```\n",
    "**Follow the instructions in the error message and check out [this forum post](https://discussions.udacity.com/t/project-error-of-test-on-videos/274082) for more troubleshooting tips across operating systems.**"
   ]
  },
  {
   "cell_type": "code",
   "execution_count": 8,
   "metadata": {},
   "outputs": [],
   "source": [
    "# Import everything needed to edit/save/watch video clips\n",
    "from moviepy.editor import VideoFileClip\n",
    "from IPython.display import HTML"
   ]
  },
  {
   "cell_type": "code",
   "execution_count": 9,
   "metadata": {},
   "outputs": [],
   "source": [
    "def process_image(image):\n",
    "    # NOTE: The output you return should be a color image (3 channel) for processing video below\n",
    "    # TODO: put your pipeline here,\n",
    "    # you should return the final output (image where lines are drawn on lanes)\n",
    "    \n",
    "    result = get_combo_image(image)\n",
    "    return result"
   ]
  },
  {
   "cell_type": "markdown",
   "metadata": {},
   "source": [
    "Let's try the one with the solid white lane on the right first ..."
   ]
  },
  {
   "cell_type": "code",
   "execution_count": 143,
   "metadata": {},
   "outputs": [
    {
     "name": "stdout",
     "output_type": "stream",
     "text": [
      "[MoviePy] >>>> Building video test_videos_output/solidWhiteRight.mp4\n",
      "[MoviePy] Writing video test_videos_output/solidWhiteRight.mp4\n"
     ]
    },
    {
     "name": "stderr",
     "output_type": "stream",
     "text": [
      "100%|█████████▉| 221/222 [00:14<00:00, 13.89it/s]\n"
     ]
    },
    {
     "name": "stdout",
     "output_type": "stream",
     "text": [
      "[MoviePy] Done.\n",
      "[MoviePy] >>>> Video ready: test_videos_output/solidWhiteRight.mp4 \n",
      "\n",
      "CPU times: user 3.6 s, sys: 270 ms, total: 3.87 s\n",
      "Wall time: 16.4 s\n"
     ]
    }
   ],
   "source": [
    "white_output = 'test_videos_output/solidWhiteRight.mp4'\n",
    "## To speed up the testing process you may want to try your pipeline on a shorter subclip of the video\n",
    "## To do so add .subclip(start_second,end_second) to the end of the line below\n",
    "## Where start_second and end_second are integer values representing the start and end of the subclip\n",
    "## You may also uncomment the following line for a subclip of the first 5 seconds\n",
    "##clip1 = VideoFileClip(\"test_videos/solidWhiteRight.mp4\").subclip(0,5)\n",
    "global left_fit_param_global\n",
    "global right_fit_param_global\n",
    "# reassign the global variables\n",
    "left_fit_param_global = collections.deque(maxlen=25)\n",
    "right_fit_param_global = collections.deque(maxlen=25)\n",
    "clip1 = VideoFileClip(\"test_videos/solidWhiteRight.mp4\")\n",
    "white_clip = clip1.fl_image(process_image) #NOTE: this function expects color images!!\n",
    "%time white_clip.write_videofile(white_output, audio=False)"
   ]
  },
  {
   "cell_type": "markdown",
   "metadata": {},
   "source": [
    "Play the video inline, or if you prefer find the video in your filesystem (should be in the same directory) and play it in your video player of choice."
   ]
  },
  {
   "cell_type": "code",
   "execution_count": 144,
   "metadata": {},
   "outputs": [
    {
     "data": {
      "text/html": [
       "\n",
       "<video width=\"960\" height=\"540\" controls>\n",
       "  <source src=\"test_videos_output/solidWhiteRight.mp4\">\n",
       "</video>\n"
      ],
      "text/plain": [
       "<IPython.core.display.HTML object>"
      ]
     },
     "execution_count": 144,
     "metadata": {},
     "output_type": "execute_result"
    }
   ],
   "source": [
    "HTML(\"\"\"\n",
    "<video width=\"960\" height=\"540\" controls>\n",
    "  <source src=\"{0}\">\n",
    "</video>\n",
    "\"\"\".format(white_output))"
   ]
  },
  {
   "cell_type": "markdown",
   "metadata": {},
   "source": [
    "## Improve the draw_lines() function\n",
    "\n",
    "**At this point, if you were successful with making the pipeline and tuning parameters, you probably have the Hough line segments drawn onto the road, but what about identifying the full extent of the lane and marking it clearly as in the example video (P1_example.mp4)?  Think about defining a line to run the full length of the visible lane based on the line segments you identified with the Hough Transform. As mentioned previously, try to average and/or extrapolate the line segments you've detected to map out the full extent of the lane lines. You can see an example of the result you're going for in the video \"P1_example.mp4\".**\n",
    "\n",
    "**Go back and modify your draw_lines function accordingly and try re-running your pipeline. The new output should draw a single, solid line over the left lane line and a single, solid line over the right lane line. The lines should start from the bottom of the image and extend out to the top of the region of interest.**"
   ]
  },
  {
   "cell_type": "markdown",
   "metadata": {},
   "source": [
    "Now for the one with the solid yellow lane on the left. This one's more tricky!"
   ]
  },
  {
   "cell_type": "code",
   "execution_count": 145,
   "metadata": {},
   "outputs": [
    {
     "name": "stdout",
     "output_type": "stream",
     "text": [
      "[MoviePy] >>>> Building video test_videos_output/solidYellowLeft.mp4\n",
      "[MoviePy] Writing video test_videos_output/solidYellowLeft.mp4\n"
     ]
    },
    {
     "name": "stderr",
     "output_type": "stream",
     "text": [
      "100%|█████████▉| 681/682 [00:48<00:00, 14.00it/s]\n"
     ]
    },
    {
     "name": "stdout",
     "output_type": "stream",
     "text": [
      "[MoviePy] Done.\n",
      "[MoviePy] >>>> Video ready: test_videos_output/solidYellowLeft.mp4 \n",
      "\n",
      "CPU times: user 11.1 s, sys: 869 ms, total: 11.9 s\n",
      "Wall time: 50.4 s\n"
     ]
    }
   ],
   "source": [
    "yellow_output = 'test_videos_output/solidYellowLeft.mp4'\n",
    "## To speed up the testing process you may want to try your pipeline on a shorter subclip of the video\n",
    "## To do so add .subclip(start_second,end_second) to the end of the line below\n",
    "## Where start_second and end_second are integer values representing the start and end of the subclip\n",
    "## You may also uncomment the following line for a subclip of the first 5 seconds\n",
    "##clip2 = VideoFileClip('test_videos/solidYellowLeft.mp4').subclip(0,5)\n",
    "global left_fit_param_global\n",
    "global right_fit_param_global\n",
    "# reassign the global variables\n",
    "left_fit_param_global = collections.deque(maxlen=25)\n",
    "right_fit_param_global = collections.deque(maxlen=25)\n",
    "\n",
    "clip2 = VideoFileClip('test_videos/solidYellowLeft.mp4')\n",
    "yellow_clip = clip2.fl_image(process_image)\n",
    "%time yellow_clip.write_videofile(yellow_output, audio=False)"
   ]
  },
  {
   "cell_type": "code",
   "execution_count": 146,
   "metadata": {},
   "outputs": [
    {
     "data": {
      "text/html": [
       "\n",
       "<video width=\"960\" height=\"540\" controls>\n",
       "  <source src=\"test_videos_output/solidYellowLeft.mp4\">\n",
       "</video>\n"
      ],
      "text/plain": [
       "<IPython.core.display.HTML object>"
      ]
     },
     "execution_count": 146,
     "metadata": {},
     "output_type": "execute_result"
    }
   ],
   "source": [
    "HTML(\"\"\"\n",
    "<video width=\"960\" height=\"540\" controls>\n",
    "  <source src=\"{0}\">\n",
    "</video>\n",
    "\"\"\".format(yellow_output))"
   ]
  },
  {
   "cell_type": "markdown",
   "metadata": {},
   "source": [
    "## Writeup and Submission\n",
    "\n",
    "If you're satisfied with your video outputs, it's time to make the report writeup in a pdf or markdown file. Once you have this Ipython notebook ready along with the writeup, it's time to submit for review! Here is a [link](https://github.com/udacity/CarND-LaneLines-P1/blob/master/writeup_template.md) to the writeup template file.\n"
   ]
  },
  {
   "cell_type": "markdown",
   "metadata": {
    "collapsed": true
   },
   "source": [
    "## Optional Challenge\n",
    "\n",
    "Try your lane finding pipeline on the video below.  Does it still work?  Can you figure out a way to make it more robust?  If you're up for the challenge, modify your pipeline so it works with this video and submit it along with the rest of your project!"
   ]
  },
  {
   "cell_type": "code",
   "execution_count": 124,
   "metadata": {},
   "outputs": [
    {
     "name": "stdout",
     "output_type": "stream",
     "text": [
      "[MoviePy] >>>> Building video test_videos_output/challenge.mp4\n",
      "[MoviePy] Writing video test_videos_output/challenge.mp4\n"
     ]
    },
    {
     "name": "stderr",
     "output_type": "stream",
     "text": [
      "\n",
      "  0%|          | 0/251 [00:00<?, ?it/s]\u001b[A\n",
      "  1%|          | 2/251 [00:00<00:16, 15.16it/s]\u001b[A\n",
      "  2%|▏         | 4/251 [00:00<00:16, 15.16it/s]\u001b[A\n",
      "  2%|▏         | 6/251 [00:00<00:16, 15.15it/s]\u001b[A\n",
      "  3%|▎         | 8/251 [00:00<00:15, 15.29it/s]\u001b[A\n",
      "  4%|▍         | 10/251 [00:00<00:15, 15.39it/s]\u001b[A\n",
      "  5%|▍         | 12/251 [00:00<00:15, 15.32it/s]\u001b[A\n",
      "  6%|▌         | 14/251 [00:00<00:15, 15.41it/s]\u001b[A\n",
      "  6%|▋         | 16/251 [00:01<00:15, 15.47it/s]\u001b[A\n",
      "  7%|▋         | 18/251 [00:01<00:15, 15.23it/s]\u001b[A\n",
      "  8%|▊         | 20/251 [00:01<00:14, 15.49it/s]\u001b[A\n",
      "  9%|▉         | 22/251 [00:01<00:14, 15.39it/s]\u001b[A\n",
      " 10%|▉         | 24/251 [00:01<00:14, 15.32it/s]\u001b[A\n",
      " 10%|█         | 26/251 [00:01<00:14, 15.13it/s]\u001b[A\n",
      " 11%|█         | 28/251 [00:01<00:14, 15.14it/s]\u001b[A\n",
      " 12%|█▏        | 30/251 [00:01<00:14, 15.08it/s]\u001b[A\n",
      " 13%|█▎        | 32/251 [00:02<00:14, 15.16it/s]\u001b[A\n",
      " 14%|█▎        | 34/251 [00:02<00:14, 15.30it/s]\u001b[A\n",
      " 14%|█▍        | 36/251 [00:02<00:13, 15.40it/s]\u001b[A\n",
      " 15%|█▌        | 38/251 [00:02<00:14, 15.18it/s]\u001b[A\n",
      " 16%|█▌        | 40/251 [00:02<00:13, 15.17it/s]\u001b[A\n",
      " 17%|█▋        | 42/251 [00:02<00:14, 14.76it/s]\u001b[A\n",
      " 18%|█▊        | 44/251 [00:03<00:22,  9.20it/s]\u001b[A\n",
      " 18%|█▊        | 46/251 [00:03<00:25,  8.10it/s]\u001b[A\n",
      " 19%|█▉        | 48/251 [00:03<00:26,  7.59it/s]\u001b[A\n",
      " 20%|█▉        | 49/251 [00:03<00:27,  7.41it/s]\u001b[A\n",
      " 20%|█▉        | 50/251 [00:04<00:28,  7.15it/s]\u001b[A\n",
      " 20%|██        | 51/251 [00:04<00:28,  7.02it/s]\u001b[A\n",
      " 21%|██        | 52/251 [00:04<00:28,  6.95it/s]\u001b[A\n",
      " 21%|██        | 53/251 [00:04<00:28,  6.83it/s]\u001b[A\n",
      " 22%|██▏       | 54/251 [00:04<00:29,  6.70it/s]\u001b[A\n",
      " 22%|██▏       | 55/251 [00:04<00:29,  6.58it/s]\u001b[A\n",
      " 22%|██▏       | 56/251 [00:05<00:30,  6.47it/s]\u001b[A\n",
      " 23%|██▎       | 57/251 [00:05<00:29,  6.51it/s]\u001b[A\n",
      " 23%|██▎       | 58/251 [00:05<00:29,  6.47it/s]\u001b[A\n",
      " 24%|██▎       | 59/251 [00:05<00:29,  6.43it/s]\u001b[A\n",
      " 24%|██▍       | 60/251 [00:05<00:30,  6.30it/s]\u001b[A\n",
      " 24%|██▍       | 61/251 [00:05<00:29,  6.37it/s]\u001b[A\n",
      " 25%|██▍       | 62/251 [00:05<00:29,  6.44it/s]\u001b[A\n",
      " 25%|██▌       | 63/251 [00:06<00:28,  6.53it/s]\u001b[A\n",
      " 25%|██▌       | 64/251 [00:06<00:28,  6.47it/s]\u001b[A\n",
      " 26%|██▌       | 65/251 [00:06<00:28,  6.43it/s]\u001b[A\n",
      " 26%|██▋       | 66/251 [00:06<00:28,  6.47it/s]\u001b[A\n",
      " 27%|██▋       | 67/251 [00:06<00:28,  6.38it/s]\u001b[A\n",
      " 27%|██▋       | 68/251 [00:06<00:29,  6.28it/s]\u001b[A\n",
      " 27%|██▋       | 69/251 [00:07<00:29,  6.17it/s]\u001b[A\n",
      " 28%|██▊       | 70/251 [00:07<00:30,  5.99it/s]\u001b[A\n",
      " 28%|██▊       | 71/251 [00:07<00:29,  6.01it/s]\u001b[A\n",
      " 29%|██▊       | 72/251 [00:07<00:30,  5.93it/s]\u001b[A\n",
      " 29%|██▉       | 73/251 [00:07<00:30,  5.88it/s]\u001b[A\n",
      " 29%|██▉       | 74/251 [00:07<00:30,  5.89it/s]\u001b[A\n",
      " 30%|██▉       | 75/251 [00:08<00:29,  5.98it/s]\u001b[A\n",
      " 30%|███       | 76/251 [00:08<00:29,  5.98it/s]\u001b[A\n",
      " 31%|███       | 77/251 [00:08<00:29,  5.98it/s]\u001b[A\n",
      " 31%|███       | 78/251 [00:08<00:28,  5.97it/s]\u001b[A\n",
      " 31%|███▏      | 79/251 [00:08<00:28,  5.96it/s]\u001b[A\n",
      " 32%|███▏      | 80/251 [00:08<00:28,  5.94it/s]\u001b[A\n",
      " 32%|███▏      | 81/251 [00:09<00:28,  5.96it/s]\u001b[A\n",
      " 33%|███▎      | 82/251 [00:09<00:28,  5.93it/s]\u001b[A\n",
      " 33%|███▎      | 83/251 [00:09<00:28,  5.95it/s]\u001b[A\n",
      " 33%|███▎      | 84/251 [00:09<00:28,  5.92it/s]\u001b[A\n",
      " 34%|███▍      | 85/251 [00:09<00:27,  5.99it/s]\u001b[A\n",
      " 34%|███▍      | 86/251 [00:09<00:27,  5.95it/s]\u001b[A\n",
      " 35%|███▍      | 87/251 [00:10<00:27,  6.00it/s]\u001b[A\n",
      " 35%|███▌      | 88/251 [00:10<00:26,  6.08it/s]\u001b[A\n",
      " 35%|███▌      | 89/251 [00:10<00:26,  6.12it/s]\u001b[A\n",
      " 36%|███▌      | 90/251 [00:10<00:26,  5.99it/s]\u001b[A\n",
      " 36%|███▋      | 91/251 [00:10<00:26,  5.96it/s]\u001b[A\n",
      " 37%|███▋      | 92/251 [00:10<00:27,  5.87it/s]\u001b[A\n",
      " 37%|███▋      | 93/251 [00:11<00:26,  5.95it/s]\u001b[A\n",
      " 37%|███▋      | 94/251 [00:11<00:26,  6.02it/s]\u001b[A\n",
      " 38%|███▊      | 95/251 [00:11<00:25,  6.07it/s]\u001b[A\n",
      " 38%|███▊      | 96/251 [00:11<00:25,  6.01it/s]\u001b[A\n",
      " 39%|███▊      | 97/251 [00:11<00:25,  5.97it/s]\u001b[A\n",
      " 39%|███▉      | 98/251 [00:11<00:26,  5.83it/s]\u001b[A\n",
      " 39%|███▉      | 99/251 [00:12<00:26,  5.82it/s]\u001b[A\n",
      " 40%|███▉      | 100/251 [00:12<00:26,  5.79it/s]\u001b[A\n",
      " 40%|████      | 101/251 [00:12<00:25,  5.85it/s]\u001b[A\n",
      " 41%|████      | 102/251 [00:12<00:25,  5.88it/s]\u001b[A\n",
      " 41%|████      | 103/251 [00:12<00:25,  5.91it/s]\u001b[A\n",
      " 41%|████▏     | 104/251 [00:12<00:24,  5.93it/s]\u001b[A\n",
      " 42%|████▏     | 105/251 [00:13<00:24,  6.02it/s]\u001b[A\n",
      " 42%|████▏     | 106/251 [00:13<00:24,  5.93it/s]\u001b[A\n",
      " 43%|████▎     | 107/251 [00:13<00:24,  5.94it/s]\u001b[A\n",
      " 43%|████▎     | 108/251 [00:13<00:24,  5.81it/s]\u001b[A\n",
      " 43%|████▎     | 109/251 [00:13<00:23,  6.15it/s]\u001b[A\n",
      " 44%|████▍     | 110/251 [00:13<00:23,  6.00it/s]\u001b[A\n",
      " 44%|████▍     | 111/251 [00:14<00:21,  6.43it/s]\u001b[A\n",
      " 45%|████▍     | 112/251 [00:14<00:21,  6.32it/s]\u001b[A\n",
      " 45%|████▌     | 113/251 [00:14<00:22,  6.13it/s]\u001b[A\n",
      " 45%|████▌     | 114/251 [00:14<00:22,  6.18it/s]\u001b[A\n",
      " 46%|████▌     | 115/251 [00:14<00:22,  6.08it/s]\u001b[A\n",
      " 46%|████▌     | 116/251 [00:14<00:22,  5.96it/s]\u001b[A\n",
      " 47%|████▋     | 117/251 [00:15<00:23,  5.71it/s]\u001b[A\n",
      " 47%|████▋     | 118/251 [00:15<00:22,  6.01it/s]\u001b[A\n",
      " 47%|████▋     | 119/251 [00:15<00:23,  5.63it/s]\u001b[A\n",
      " 48%|████▊     | 120/251 [00:15<00:22,  5.78it/s]\u001b[A\n",
      " 48%|████▊     | 121/251 [00:15<00:22,  5.68it/s]\u001b[A\n",
      " 49%|████▊     | 122/251 [00:16<00:23,  5.38it/s]\u001b[A\n",
      " 49%|████▉     | 123/251 [00:16<00:22,  5.75it/s]\u001b[A\n",
      " 49%|████▉     | 124/251 [00:16<00:23,  5.51it/s]\u001b[A\n",
      " 50%|████▉     | 125/251 [00:16<00:21,  5.76it/s]\u001b[A\n",
      " 50%|█████     | 126/251 [00:16<00:22,  5.50it/s]\u001b[A\n",
      " 51%|█████     | 127/251 [00:16<00:22,  5.50it/s]\u001b[A\n",
      " 51%|█████     | 128/251 [00:17<00:23,  5.33it/s]\u001b[A\n",
      " 51%|█████▏    | 129/251 [00:17<00:21,  5.61it/s]\u001b[A\n",
      " 52%|█████▏    | 130/251 [00:17<00:22,  5.40it/s]\u001b[A\n",
      " 52%|█████▏    | 131/251 [00:17<00:21,  5.65it/s]\u001b[A\n",
      " 53%|█████▎    | 132/251 [00:17<00:21,  5.51it/s]\u001b[A\n",
      " 53%|█████▎    | 133/251 [00:18<00:21,  5.46it/s]\u001b[A\n",
      " 53%|█████▎    | 134/251 [00:18<00:21,  5.47it/s]\u001b[A\n",
      " 54%|█████▍    | 135/251 [00:18<00:20,  5.58it/s]\u001b[A\n",
      " 54%|█████▍    | 136/251 [00:18<00:20,  5.57it/s]\u001b[A\n",
      " 55%|█████▍    | 137/251 [00:18<00:19,  5.90it/s]\u001b[A\n",
      " 55%|█████▍    | 138/251 [00:18<00:19,  5.84it/s]\u001b[A\n",
      " 55%|█████▌    | 139/251 [00:19<00:19,  5.76it/s]\u001b[A\n",
      " 56%|█████▌    | 140/251 [00:19<00:19,  5.75it/s]\u001b[A\n",
      " 56%|█████▌    | 141/251 [00:19<00:19,  5.74it/s]\u001b[A\n",
      " 57%|█████▋    | 142/251 [00:19<00:19,  5.67it/s]\u001b[A\n",
      " 57%|█████▋    | 143/251 [00:19<00:19,  5.64it/s]\u001b[A\n",
      " 57%|█████▋    | 144/251 [00:19<00:19,  5.61it/s]\u001b[A\n",
      " 58%|█████▊    | 145/251 [00:20<00:18,  5.62it/s]\u001b[A\n",
      " 58%|█████▊    | 146/251 [00:20<00:18,  5.56it/s]\u001b[A\n",
      " 59%|█████▊    | 147/251 [00:20<00:19,  5.47it/s]\u001b[A\n",
      " 59%|█████▉    | 148/251 [00:20<00:18,  5.47it/s]\u001b[A\n",
      " 59%|█████▉    | 149/251 [00:20<00:18,  5.37it/s]\u001b[A\n",
      " 60%|█████▉    | 150/251 [00:21<00:18,  5.36it/s]\u001b[A\n",
      " 60%|██████    | 151/251 [00:21<00:18,  5.41it/s]\u001b[A\n",
      " 61%|██████    | 152/251 [00:21<00:17,  5.51it/s]\u001b[A\n",
      " 61%|██████    | 153/251 [00:21<00:17,  5.58it/s]\u001b[A\n",
      " 61%|██████▏   | 154/251 [00:21<00:17,  5.65it/s]\u001b[A\n",
      " 62%|██████▏   | 155/251 [00:21<00:17,  5.42it/s]\u001b[A\n",
      " 62%|██████▏   | 156/251 [00:22<00:16,  5.81it/s]\u001b[A\n",
      " 63%|██████▎   | 157/251 [00:22<00:16,  5.54it/s]\u001b[A\n",
      " 63%|██████▎   | 158/251 [00:22<00:15,  5.89it/s]\u001b[A\n",
      " 63%|██████▎   | 159/251 [00:22<00:16,  5.62it/s]\u001b[A\n",
      " 64%|██████▎   | 160/251 [00:22<00:15,  6.03it/s]\u001b[A\n",
      " 64%|██████▍   | 161/251 [00:22<00:15,  5.64it/s]\u001b[A\n",
      " 65%|██████▍   | 162/251 [00:23<00:14,  6.09it/s]\u001b[A\n",
      " 65%|██████▍   | 163/251 [00:23<00:15,  5.80it/s]\u001b[A\n",
      " 65%|██████▌   | 164/251 [00:23<00:14,  5.88it/s]\u001b[A\n",
      " 66%|██████▌   | 165/251 [00:23<00:15,  5.69it/s]\u001b[A\n",
      " 66%|██████▌   | 166/251 [00:23<00:14,  5.77it/s]\u001b[A\n",
      " 67%|██████▋   | 167/251 [00:23<00:14,  5.75it/s]\u001b[A\n",
      " 67%|██████▋   | 168/251 [00:24<00:15,  5.52it/s]\u001b[A\n",
      " 67%|██████▋   | 169/251 [00:24<00:14,  5.60it/s]\u001b[A\n",
      " 68%|██████▊   | 170/251 [00:24<00:14,  5.61it/s]\u001b[A\n",
      " 68%|██████▊   | 171/251 [00:24<00:14,  5.34it/s]\u001b[A\n",
      " 69%|██████▊   | 172/251 [00:24<00:14,  5.39it/s]\u001b[A\n",
      " 69%|██████▉   | 173/251 [00:25<00:15,  4.97it/s]\u001b[A\n",
      " 69%|██████▉   | 174/251 [00:25<00:14,  5.35it/s]\u001b[A\n",
      " 70%|██████▉   | 175/251 [00:25<00:14,  5.36it/s]\u001b[A\n",
      " 70%|███████   | 176/251 [00:25<00:14,  5.09it/s]\u001b[A\n",
      " 71%|███████   | 177/251 [00:25<00:13,  5.38it/s]\u001b[A\n",
      " 71%|███████   | 178/251 [00:26<00:13,  5.25it/s]\u001b[A\n",
      " 71%|███████▏  | 179/251 [00:26<00:14,  4.90it/s]\u001b[A\n"
     ]
    },
    {
     "name": "stderr",
     "output_type": "stream",
     "text": [
      " 72%|███████▏  | 180/251 [00:26<00:13,  5.15it/s]\u001b[A\n",
      " 72%|███████▏  | 181/251 [00:26<00:13,  5.01it/s]\u001b[A\n",
      " 73%|███████▎  | 182/251 [00:26<00:13,  5.27it/s]\u001b[A\n",
      " 73%|███████▎  | 183/251 [00:27<00:12,  5.28it/s]\u001b[A\n",
      " 73%|███████▎  | 184/251 [00:27<00:12,  5.28it/s]\u001b[A\n",
      " 74%|███████▎  | 185/251 [00:27<00:12,  5.26it/s]\u001b[A\n",
      " 74%|███████▍  | 186/251 [00:27<00:12,  5.07it/s]\u001b[A\n",
      " 75%|███████▍  | 187/251 [00:27<00:11,  5.36it/s]\u001b[A\n",
      " 75%|███████▍  | 188/251 [00:28<00:11,  5.31it/s]\u001b[A\n",
      " 75%|███████▌  | 189/251 [00:28<00:12,  4.98it/s]\u001b[A\n",
      " 76%|███████▌  | 190/251 [00:28<00:11,  5.14it/s]\u001b[A\n",
      " 76%|███████▌  | 191/251 [00:28<00:11,  5.17it/s]\u001b[A\n",
      " 76%|███████▋  | 192/251 [00:28<00:11,  5.22it/s]\u001b[A\n",
      " 77%|███████▋  | 193/251 [00:28<00:11,  5.22it/s]\u001b[A\n",
      " 77%|███████▋  | 194/251 [00:29<00:10,  5.27it/s]\u001b[A\n",
      " 78%|███████▊  | 195/251 [00:29<00:10,  5.42it/s]\u001b[A\n",
      " 78%|███████▊  | 196/251 [00:29<00:10,  5.45it/s]\u001b[A\n",
      " 78%|███████▊  | 197/251 [00:29<00:09,  5.46it/s]\u001b[A\n",
      " 79%|███████▉  | 198/251 [00:29<00:09,  5.54it/s]\u001b[A\n",
      " 79%|███████▉  | 199/251 [00:30<00:09,  5.66it/s]\u001b[A\n",
      " 80%|███████▉  | 200/251 [00:30<00:08,  5.68it/s]\u001b[A\n",
      " 80%|████████  | 201/251 [00:30<00:08,  5.78it/s]\u001b[A\n",
      " 80%|████████  | 202/251 [00:30<00:08,  5.78it/s]\u001b[A\n",
      " 81%|████████  | 203/251 [00:30<00:08,  5.83it/s]\u001b[A\n",
      " 81%|████████▏ | 204/251 [00:30<00:08,  5.73it/s]\u001b[A\n",
      " 82%|████████▏ | 205/251 [00:31<00:08,  5.74it/s]\u001b[A\n",
      " 82%|████████▏ | 206/251 [00:31<00:07,  5.79it/s]\u001b[A\n",
      " 82%|████████▏ | 207/251 [00:31<00:07,  5.90it/s]\u001b[A\n",
      " 83%|████████▎ | 208/251 [00:31<00:07,  5.95it/s]\u001b[A\n",
      " 83%|████████▎ | 209/251 [00:31<00:07,  5.93it/s]\u001b[A\n",
      " 84%|████████▎ | 210/251 [00:31<00:07,  5.84it/s]\u001b[A\n",
      " 84%|████████▍ | 211/251 [00:32<00:06,  6.07it/s]\u001b[A\n",
      " 84%|████████▍ | 212/251 [00:32<00:06,  6.13it/s]\u001b[A\n",
      " 85%|████████▍ | 213/251 [00:32<00:06,  6.26it/s]\u001b[A\n",
      " 85%|████████▌ | 214/251 [00:32<00:05,  6.34it/s]\u001b[A\n",
      " 86%|████████▌ | 215/251 [00:32<00:05,  6.18it/s]\u001b[A\n",
      " 86%|████████▌ | 216/251 [00:32<00:05,  6.57it/s]\u001b[A\n",
      " 86%|████████▋ | 217/251 [00:33<00:05,  6.48it/s]\u001b[A\n",
      " 87%|████████▋ | 218/251 [00:33<00:05,  6.39it/s]\u001b[A\n",
      " 87%|████████▋ | 219/251 [00:33<00:04,  6.44it/s]\u001b[A\n",
      " 88%|████████▊ | 220/251 [00:33<00:04,  6.46it/s]\u001b[A\n",
      " 88%|████████▊ | 221/251 [00:33<00:04,  6.44it/s]\u001b[A\n",
      " 88%|████████▊ | 222/251 [00:33<00:04,  6.47it/s]\u001b[A\n",
      " 89%|████████▉ | 223/251 [00:33<00:04,  6.38it/s]\u001b[A\n",
      " 89%|████████▉ | 224/251 [00:34<00:04,  6.35it/s]\u001b[A\n",
      " 90%|████████▉ | 225/251 [00:34<00:04,  6.37it/s]\u001b[A\n",
      " 90%|█████████ | 226/251 [00:34<00:03,  6.35it/s]\u001b[A\n",
      " 90%|█████████ | 227/251 [00:34<00:03,  6.30it/s]\u001b[A\n",
      " 91%|█████████ | 228/251 [00:34<00:03,  6.42it/s]\u001b[A\n",
      " 91%|█████████ | 229/251 [00:34<00:03,  6.31it/s]\u001b[A\n",
      " 92%|█████████▏| 230/251 [00:35<00:03,  6.25it/s]\u001b[A\n",
      " 92%|█████████▏| 231/251 [00:35<00:03,  6.31it/s]\u001b[A\n",
      " 92%|█████████▏| 232/251 [00:35<00:03,  6.14it/s]\u001b[A\n",
      " 93%|█████████▎| 233/251 [00:35<00:02,  6.12it/s]\u001b[A\n",
      " 93%|█████████▎| 234/251 [00:35<00:02,  6.14it/s]\u001b[A\n",
      " 94%|█████████▎| 235/251 [00:35<00:02,  6.14it/s]\u001b[A\n",
      " 94%|█████████▍| 236/251 [00:36<00:02,  6.11it/s]\u001b[A\n",
      " 94%|█████████▍| 237/251 [00:36<00:02,  6.14it/s]\u001b[A\n",
      " 95%|█████████▍| 238/251 [00:36<00:02,  6.13it/s]\u001b[A\n",
      " 95%|█████████▌| 239/251 [00:36<00:01,  6.12it/s]\u001b[A\n",
      " 96%|█████████▌| 240/251 [00:36<00:01,  6.06it/s]\u001b[A\n",
      " 96%|█████████▌| 241/251 [00:36<00:01,  6.16it/s]\u001b[A\n",
      " 96%|█████████▋| 242/251 [00:37<00:01,  6.12it/s]\u001b[A\n",
      " 97%|█████████▋| 243/251 [00:37<00:01,  6.12it/s]\u001b[A\n",
      " 97%|█████████▋| 244/251 [00:37<00:01,  6.08it/s]\u001b[A\n",
      " 98%|█████████▊| 245/251 [00:37<00:00,  6.16it/s]\u001b[A\n",
      " 98%|█████████▊| 246/251 [00:37<00:00,  6.16it/s]\u001b[A\n",
      " 98%|█████████▊| 247/251 [00:37<00:00,  6.19it/s]\u001b[A\n",
      " 99%|█████████▉| 248/251 [00:37<00:00,  6.21it/s]\u001b[A\n",
      " 99%|█████████▉| 249/251 [00:38<00:00,  6.32it/s]\u001b[A\n",
      "100%|█████████▉| 250/251 [00:38<00:00,  6.30it/s]\u001b[A\n",
      "100%|██████████| 251/251 [00:38<00:00,  6.47it/s]\u001b[A\n",
      "\u001b[A"
     ]
    },
    {
     "name": "stdout",
     "output_type": "stream",
     "text": [
      "[MoviePy] Done.\n",
      "[MoviePy] >>>> Video ready: test_videos_output/challenge.mp4 \n",
      "\n",
      "CPU times: user 9.38 s, sys: 977 ms, total: 10.4 s\n",
      "Wall time: 42.1 s\n"
     ]
    }
   ],
   "source": [
    "challenge_output = 'test_videos_output/challenge.mp4'\n",
    "## To speed up the testing process you may want to try your pipeline on a shorter subclip of the video\n",
    "## To do so add .subclip(start_second,end_second) to the end of the line below\n",
    "## Where start_second and end_second are integer values representing the start and end of the subclip\n",
    "## You may also uncomment the following line for a subclip of the first 5 seconds\n",
    "##clip3 = VideoFileClip('test_videos/challenge.mp4').subclip(0,5)\n",
    "clip3 = VideoFileClip('test_videos/challenge.mp4')\n",
    "challenge_clip = clip3.fl_image(process_image)\n",
    "%time challenge_clip.write_videofile(challenge_output, audio=False)"
   ]
  },
  {
   "cell_type": "code",
   "execution_count": 125,
   "metadata": {},
   "outputs": [
    {
     "data": {
      "text/html": [
       "\n",
       "<video width=\"960\" height=\"540\" controls>\n",
       "  <source src=\"test_videos_output/challenge.mp4\">\n",
       "</video>\n"
      ],
      "text/plain": [
       "<IPython.core.display.HTML object>"
      ]
     },
     "execution_count": 125,
     "metadata": {},
     "output_type": "execute_result"
    }
   ],
   "source": [
    "HTML(\"\"\"\n",
    "<video width=\"960\" height=\"540\" controls>\n",
    "  <source src=\"{0}\">\n",
    "</video>\n",
    "\"\"\".format(challenge_output))"
   ]
  },
  {
   "cell_type": "code",
   "execution_count": null,
   "metadata": {},
   "outputs": [],
   "source": []
  }
 ],
 "metadata": {
  "anaconda-cloud": {},
  "kernelspec": {
   "display_name": "Python 3",
   "language": "python",
   "name": "python3"
  },
  "language_info": {
   "codemirror_mode": {
    "name": "ipython",
    "version": 3
   },
   "file_extension": ".py",
   "mimetype": "text/x-python",
   "name": "python",
   "nbconvert_exporter": "python",
   "pygments_lexer": "ipython3",
   "version": "3.6.3"
  }
 },
 "nbformat": 4,
 "nbformat_minor": 1
}
